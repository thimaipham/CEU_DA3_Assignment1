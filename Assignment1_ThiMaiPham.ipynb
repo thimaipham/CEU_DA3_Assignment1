{
 "cells": [
  {
   "cell_type": "code",
   "execution_count": 1,
   "id": "bc3a4cdd",
   "metadata": {},
   "outputs": [],
   "source": [
    "# Import libraries\n",
    "import warnings\n",
    "warnings.filterwarnings('ignore')\n",
    "\n",
    "import pandas as pd\n",
    "import seaborn as sns\n",
    "import matplotlib.pyplot as plt\n",
    "from mizani.formatters import percent_format\n",
    "import os\n",
    "from plotnine import *\n",
    "import numpy as np\n",
    "import sys\n",
    "import numpy as np\n",
    "import statsmodels.api as sm\n",
    "import statsmodels.formula.api as smf\n",
    "from stargazer import stargazer\n",
    "from statsmodels.tools.eval_measures import mse,rmse"
   ]
  },
  {
   "cell_type": "code",
   "execution_count": 2,
   "id": "46c986a1",
   "metadata": {},
   "outputs": [],
   "source": [
    "#Load original data which from cleaned_data folder on OSF\n",
    "full_data = pd.read_csv('https://raw.githubusercontent.com/thimaipham/Data/main/morg-2014-emp.csv', \n",
    "                        dtype={16: str})"
   ]
  },
  {
   "cell_type": "code",
   "execution_count": 4,
   "id": "d94acffc",
   "metadata": {},
   "outputs": [
    {
     "data": {
      "text/html": [
       "<div>\n",
       "<style scoped>\n",
       "    .dataframe tbody tr th:only-of-type {\n",
       "        vertical-align: middle;\n",
       "    }\n",
       "\n",
       "    .dataframe tbody tr th {\n",
       "        vertical-align: top;\n",
       "    }\n",
       "\n",
       "    .dataframe thead th {\n",
       "        text-align: right;\n",
       "    }\n",
       "</style>\n",
       "<table border=\"1\" class=\"dataframe\">\n",
       "  <thead>\n",
       "    <tr style=\"text-align: right;\">\n",
       "      <th></th>\n",
       "      <th>Unnamed: 0</th>\n",
       "      <th>hhid</th>\n",
       "      <th>intmonth</th>\n",
       "      <th>stfips</th>\n",
       "      <th>weight</th>\n",
       "      <th>earnwke</th>\n",
       "      <th>uhours</th>\n",
       "      <th>grade92</th>\n",
       "      <th>race</th>\n",
       "      <th>ethnic</th>\n",
       "      <th>...</th>\n",
       "      <th>ownchild</th>\n",
       "      <th>chldpres</th>\n",
       "      <th>prcitshp</th>\n",
       "      <th>state</th>\n",
       "      <th>ind02</th>\n",
       "      <th>occ2012</th>\n",
       "      <th>class</th>\n",
       "      <th>unionmme</th>\n",
       "      <th>unioncov</th>\n",
       "      <th>lfsr94</th>\n",
       "    </tr>\n",
       "  </thead>\n",
       "  <tbody>\n",
       "    <tr>\n",
       "      <th>0</th>\n",
       "      <td>3</td>\n",
       "      <td>2600310997690</td>\n",
       "      <td>January</td>\n",
       "      <td>AL</td>\n",
       "      <td>3151.6801</td>\n",
       "      <td>1692.0</td>\n",
       "      <td>40</td>\n",
       "      <td>43</td>\n",
       "      <td>1</td>\n",
       "      <td>NaN</td>\n",
       "      <td>...</td>\n",
       "      <td>0</td>\n",
       "      <td>0</td>\n",
       "      <td>Native, Born In US</td>\n",
       "      <td>63</td>\n",
       "      <td>Employment services (5613)</td>\n",
       "      <td>630</td>\n",
       "      <td>Private, For Profit</td>\n",
       "      <td>No</td>\n",
       "      <td>No</td>\n",
       "      <td>Employed-At Work</td>\n",
       "    </tr>\n",
       "    <tr>\n",
       "      <th>1</th>\n",
       "      <td>5</td>\n",
       "      <td>75680310997590</td>\n",
       "      <td>January</td>\n",
       "      <td>AL</td>\n",
       "      <td>3457.1138</td>\n",
       "      <td>450.0</td>\n",
       "      <td>40</td>\n",
       "      <td>41</td>\n",
       "      <td>2</td>\n",
       "      <td>NaN</td>\n",
       "      <td>...</td>\n",
       "      <td>2</td>\n",
       "      <td>6</td>\n",
       "      <td>Native, Born In US</td>\n",
       "      <td>63</td>\n",
       "      <td>Outpatient care centers (6214)</td>\n",
       "      <td>5400</td>\n",
       "      <td>Private, For Profit</td>\n",
       "      <td>No</td>\n",
       "      <td>No</td>\n",
       "      <td>Employed-Absent</td>\n",
       "    </tr>\n",
       "  </tbody>\n",
       "</table>\n",
       "<p>2 rows × 23 columns</p>\n",
       "</div>"
      ],
      "text/plain": [
       "   Unnamed: 0            hhid intmonth stfips     weight  earnwke  uhours  \\\n",
       "0           3   2600310997690  January     AL  3151.6801   1692.0      40   \n",
       "1           5  75680310997590  January     AL  3457.1138    450.0      40   \n",
       "\n",
       "   grade92  race  ethnic  ...  ownchild  chldpres            prcitshp  state  \\\n",
       "0       43     1     NaN  ...         0         0  Native, Born In US     63   \n",
       "1       41     2     NaN  ...         2         6  Native, Born In US     63   \n",
       "\n",
       "                            ind02 occ2012                class unionmme  \\\n",
       "0      Employment services (5613)     630  Private, For Profit       No   \n",
       "1  Outpatient care centers (6214)    5400  Private, For Profit       No   \n",
       "\n",
       "   unioncov            lfsr94  \n",
       "0        No  Employed-At Work  \n",
       "1        No   Employed-Absent  \n",
       "\n",
       "[2 rows x 23 columns]"
      ]
     },
     "execution_count": 4,
     "metadata": {},
     "output_type": "execute_result"
    }
   ],
   "source": [
    "#Check data infomation\n",
    "full_data.head(2)"
   ]
  },
  {
   "cell_type": "code",
   "execution_count": 5,
   "id": "4643c1d8",
   "metadata": {},
   "outputs": [
    {
     "data": {
      "text/plain": [
       "1027"
      ]
     },
     "execution_count": 5,
     "metadata": {},
     "output_type": "execute_result"
    }
   ],
   "source": [
    "# Filter the dataset for the occupation \n",
    "# \"Lawyers, Judges, magistrates, and other judicial workers\" (occupation code 2100)\n",
    "occupation_code = 2100\n",
    "data = full_data[full_data['occ2012'] == occupation_code]\n",
    "\n",
    "# Count the number of observations for this occupation\n",
    "data.shape[0]"
   ]
  },
  {
   "cell_type": "markdown",
   "id": "98c3d4d3",
   "metadata": {},
   "source": [
    "###### This filter data include 1027 observations"
   ]
  },
  {
   "cell_type": "markdown",
   "id": "266d1f3a",
   "metadata": {},
   "source": [
    "### Feture Engineering"
   ]
  },
  {
   "cell_type": "code",
   "execution_count": 10,
   "id": "25c70e87",
   "metadata": {},
   "outputs": [
    {
     "name": "stdout",
     "output_type": "stream",
     "text": [
      "Unnamed: 0             0\n",
      "hhid                   0\n",
      "intmonth               0\n",
      "stfips                 0\n",
      "weight                 0\n",
      "earnwke                0\n",
      "uhours                 0\n",
      "grade92                0\n",
      "race                   0\n",
      "ethnic               981\n",
      "age                    0\n",
      "sex                    0\n",
      "marital                0\n",
      "ownchild               0\n",
      "chldpres               0\n",
      "prcitshp               0\n",
      "state                  0\n",
      "ind02                  0\n",
      "occ2012                0\n",
      "class                  0\n",
      "unionmme               0\n",
      "unioncov              57\n",
      "lfsr94                 0\n",
      "earnings_per_hour      0\n",
      "dtype: int64 Unnamed: 0             int64\n",
      "hhid                   int64\n",
      "intmonth              object\n",
      "stfips                object\n",
      "weight               float64\n",
      "earnwke              float64\n",
      "uhours                 int64\n",
      "grade92                int64\n",
      "race                   int64\n",
      "ethnic               float64\n",
      "age                    int64\n",
      "sex                    int64\n",
      "marital                int64\n",
      "ownchild               int64\n",
      "chldpres               int64\n",
      "prcitshp              object\n",
      "state                 object\n",
      "ind02                 object\n",
      "occ2012                int64\n",
      "class                 object\n",
      "unionmme              object\n",
      "unioncov              object\n",
      "lfsr94                object\n",
      "earnings_per_hour    float64\n",
      "dtype: object\n",
      "     earnwke  uhours  earnings_per_hour\n",
      "23   1442.30      50           28.84600\n",
      "295  1384.61      40           34.61525\n",
      "659  2307.00      50           46.14000\n",
      "764   700.00      50           14.00000\n",
      "901  2884.61      50           57.69220\n"
     ]
    }
   ],
   "source": [
    "# Checking for missing values\n",
    "missing_values = data.isnull().sum()\n",
    "\n",
    "# Examining data types\n",
    "data_types = data.dtypes\n",
    "\n",
    "# Creating a new column for earnings per hour\n",
    "data['earnings_per_hour'] = data['earnwke'] / data['uhours']\n",
    "\n",
    "# Display the results\n",
    "print(missing_values, data_types) \n",
    "print(data[['earnwke', 'uhours', 'earnings_per_hour']].head())\n"
   ]
  },
  {
   "cell_type": "markdown",
   "id": "ed296ca7",
   "metadata": {},
   "source": [
    "##### Missing values:\n",
    "- The `ethnic` column has 981 missing values.\n",
    "- The `unioncov` column has 57 missing values.\n",
    "Due to a huge number of missing values in `ethic` column and some missing values in `unioncov` column, I will not choose them in the models of the following steps.  Because we have many other variable options for the models.\n",
    "\n",
    "##### New column: \n",
    "- The column `earnings_per_hour` is created by `earnwke`/`uhours`. This will be the target variable for predictive modeling."
   ]
  },
  {
   "cell_type": "code",
   "execution_count": null,
   "id": "4ec5ac24",
   "metadata": {},
   "outputs": [],
   "source": []
  }
 ],
 "metadata": {
  "kernelspec": {
   "display_name": "Python 3 (ipykernel)",
   "language": "python",
   "name": "python3"
  },
  "language_info": {
   "codemirror_mode": {
    "name": "ipython",
    "version": 3
   },
   "file_extension": ".py",
   "mimetype": "text/x-python",
   "name": "python",
   "nbconvert_exporter": "python",
   "pygments_lexer": "ipython3",
   "version": "3.11.4"
  }
 },
 "nbformat": 4,
 "nbformat_minor": 5
}
